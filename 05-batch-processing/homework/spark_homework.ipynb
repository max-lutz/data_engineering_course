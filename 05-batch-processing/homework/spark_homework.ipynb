{
 "cells": [
  {
   "cell_type": "code",
   "execution_count": null,
   "id": "fa20d51a",
   "metadata": {},
   "outputs": [],
   "source": [
    "import pyspark\n",
    "from pyspark.sql import SparkSession\n",
    "\n",
    "from pyspark.sql import types\n",
    "from pyspark.sql.functions import col, to_date\n",
    "import pyspark.sql.functions as F"
   ]
  },
  {
   "cell_type": "code",
   "execution_count": null,
   "id": "9e7949d1",
   "metadata": {},
   "outputs": [],
   "source": [
    "spark = SparkSession.builder \\\n",
    "    .master(\"local[*]\") \\\n",
    "    .appName('test') \\\n",
    "    .getOrCreate()"
   ]
  },
  {
   "cell_type": "markdown",
   "id": "f736ce74",
   "metadata": {},
   "source": [
    "## Question 1"
   ]
  },
  {
   "cell_type": "code",
   "execution_count": null,
   "id": "ba58c4b7",
   "metadata": {},
   "outputs": [],
   "source": [
    "spark.version"
   ]
  },
  {
   "cell_type": "markdown",
   "id": "3cc59f24",
   "metadata": {},
   "source": [
    "## Question 2"
   ]
  },
  {
   "cell_type": "code",
   "execution_count": null,
   "id": "98f83503",
   "metadata": {},
   "outputs": [],
   "source": [
    "!wget https://github.com/DataTalksClub/nyc-tlc-data/releases/download/fhv/fhv_tripdata_2019-10.csv.gz"
   ]
  },
  {
   "cell_type": "code",
   "execution_count": null,
   "id": "c3ea7521",
   "metadata": {},
   "outputs": [],
   "source": [
    "!gzip -d fhv_tripdata_2019-10.csv.gz"
   ]
  },
  {
   "cell_type": "code",
   "execution_count": null,
   "id": "aabd332b",
   "metadata": {},
   "outputs": [],
   "source": [
    "schema = types.StructType([\n",
    "    types.StructField('dispatching_base_num', types.StringType(), True),\n",
    "    types.StructField('pickup_datetime', types.TimestampType(), True),\n",
    "    types.StructField('dropoff_datetime', types.TimestampType(), True),\n",
    "    types.StructField('PULocationID', types.IntegerType(), True),\n",
    "    types.StructField('DOLocationID', types.IntegerType(), True),\n",
    "    types.StructField('SR_Flag', types.StringType(), True),\n",
    "    types.StructField('Affiliated_base_number', types.StringType(), True)\n",
    "])"
   ]
  },
  {
   "cell_type": "code",
   "execution_count": null,
   "id": "f7e3acd9",
   "metadata": {},
   "outputs": [],
   "source": [
    "df = spark.read \\\n",
    "    .option(\"header\", \"true\") \\\n",
    "    .schema(schema) \\\n",
    "    .csv('./fhv_tripdata_2019-10.csv')"
   ]
  },
  {
   "cell_type": "code",
   "execution_count": null,
   "id": "bcf6ddf1",
   "metadata": {},
   "outputs": [],
   "source": [
    "df = df.repartition(6)\n",
    "df.write.parquet('fhvhv/2019/10/', mode='overwrite')"
   ]
  },
  {
   "cell_type": "code",
   "execution_count": null,
   "id": "33ba3707",
   "metadata": {},
   "outputs": [],
   "source": [
    "!ls fhvhv/2019/10/ -lh"
   ]
  },
  {
   "cell_type": "markdown",
   "id": "59eada02",
   "metadata": {},
   "source": [
    "## Question 3"
   ]
  },
  {
   "cell_type": "code",
   "execution_count": null,
   "id": "6e2f9afb",
   "metadata": {},
   "outputs": [],
   "source": [
    "df = spark.read.parquet('fhvhv/2019/10/')\n",
    "df = df.withColumn('pickup_date', to_date(col('pickup_datetime')))"
   ]
  },
  {
   "cell_type": "code",
   "execution_count": null,
   "id": "6dc66467",
   "metadata": {},
   "outputs": [],
   "source": [
    "df.filter(df.pickup_date == '2019-10-15').count()"
   ]
  },
  {
   "cell_type": "markdown",
   "id": "79457b46",
   "metadata": {},
   "source": [
    "## Question 4"
   ]
  },
  {
   "cell_type": "code",
   "execution_count": null,
   "id": "9e074206",
   "metadata": {},
   "outputs": [],
   "source": [
    "df = spark.read.parquet('fhvhv/2019/10/')\n",
    "df = df.withColumn('trip_duration', (F.col(\"dropoff_datetime\").cast(\"long\") - F.col(\"pickup_datetime\").cast(\"long\"))/3600)"
   ]
  },
  {
   "cell_type": "code",
   "execution_count": null,
   "id": "de6ac353",
   "metadata": {},
   "outputs": [],
   "source": [
    "df.registerTempTable('trips_data')"
   ]
  },
  {
   "cell_type": "code",
   "execution_count": null,
   "id": "bb1911db",
   "metadata": {},
   "outputs": [],
   "source": [
    "df_result = spark.sql(\"SELECT trip_duration FROM trips_data ORDER BY trip_duration DESC LIMIT 1;\")\n",
    "df_result.show()"
   ]
  },
  {
   "cell_type": "markdown",
   "id": "c718207c",
   "metadata": {},
   "source": [
    "## Question 5"
   ]
  },
  {
   "cell_type": "markdown",
   "id": "f2dd266e",
   "metadata": {},
   "source": [
    "Spark’s User Interface which shows the application's dashboard runs on which local port?\n",
    "Answer: 4040"
   ]
  },
  {
   "cell_type": "markdown",
   "id": "4929de71",
   "metadata": {},
   "source": [
    "## Question 6"
   ]
  },
  {
   "cell_type": "code",
   "execution_count": null,
   "id": "4667d788",
   "metadata": {},
   "outputs": [],
   "source": [
    "!wget https://github.com/DataTalksClub/nyc-tlc-data/releases/download/misc/taxi_zone_lookup.csv"
   ]
  },
  {
   "cell_type": "code",
   "execution_count": null,
   "id": "b5f9ce7c",
   "metadata": {},
   "outputs": [],
   "source": [
    "df_zones = spark.read \\\n",
    "            .option(\"header\", \"true\") \\\n",
    "            .csv('./taxi_zone_lookup.csv')"
   ]
  },
  {
   "cell_type": "code",
   "execution_count": null,
   "id": "4679f3b7",
   "metadata": {},
   "outputs": [],
   "source": [
    "df_joined = df.join(df_zones, df.PULocationID == df_zones.LocationID, how='left') \\\n",
    "            .select(['pickup_datetime', 'PULocationID', 'Zone'])"
   ]
  },
  {
   "cell_type": "code",
   "execution_count": null,
   "id": "0c39f161",
   "metadata": {},
   "outputs": [],
   "source": [
    "df_joined.registerTempTable('trips_data_joined')"
   ]
  },
  {
   "cell_type": "code",
   "execution_count": null,
   "id": "b0baffcc",
   "metadata": {},
   "outputs": [],
   "source": [
    "df_result = spark.sql(\"\"\"\n",
    "    SELECT Zone, COUNT(Zone)\n",
    "    FROM trips_data_joined \n",
    "    GROUP BY Zone\n",
    "    ORDER BY COUNT(Zone)\n",
    "    LIMIT 10;\n",
    "\"\"\")\n",
    "   \n",
    "df_result.show()"
   ]
  },
  {
   "cell_type": "code",
   "execution_count": null,
   "id": "594ebc0e",
   "metadata": {},
   "outputs": [],
   "source": []
  }
 ],
 "metadata": {
  "kernelspec": {
   "display_name": "Python 3 (ipykernel)",
   "language": "python",
   "name": "python3"
  },
  "language_info": {
   "codemirror_mode": {
    "name": "ipython",
    "version": 3
   },
   "file_extension": ".py",
   "mimetype": "text/x-python",
   "name": "python",
   "nbconvert_exporter": "python",
   "pygments_lexer": "ipython3",
   "version": "3.11.5"
  }
 },
 "nbformat": 4,
 "nbformat_minor": 5
}
